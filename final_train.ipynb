{
  "nbformat": 4,
  "nbformat_minor": 0,
  "metadata": {
    "colab": {
      "name": "final_train.ipynb",
      "provenance": [],
      "collapsed_sections": [
        "rU5SmzLAGXYk",
        "srrXzGFqGaqt",
        "r9eDVpCVGiw9",
        "LP85tDDwG42S",
        "YRYZz9l4G8VE",
        "_WxMLW0-HAtJ",
        "Q7ZxzRpQHMbO"
      ],
      "authorship_tag": "ABX9TyPVCo0H+s8Daz2MmpztQ5dU",
      "include_colab_link": true
    },
    "kernelspec": {
      "name": "python3",
      "display_name": "Python 3"
    },
    "language_info": {
      "name": "python"
    }
  },
  "cells": [
    {
      "cell_type": "markdown",
      "metadata": {
        "id": "view-in-github",
        "colab_type": "text"
      },
      "source": [
        "<a href=\"https://colab.research.google.com/github/AllanKamimura/AI/blob/master/image/classification/pokemon/final_train.ipynb\" target=\"_parent\"><img src=\"https://colab.research.google.com/assets/colab-badge.svg\" alt=\"Open In Colab\"/></a>"
      ]
    },
    {
      "cell_type": "markdown",
      "metadata": {
        "id": "03xOZz2pHlIq"
      },
      "source": [
        "repo: https://github.com/ieee-saocarlos/pokIEEEdex"
      ]
    },
    {
      "cell_type": "markdown",
      "metadata": {
        "id": "rU5SmzLAGXYk"
      },
      "source": [
        "# Init"
      ]
    },
    {
      "cell_type": "markdown",
      "metadata": {
        "id": "srrXzGFqGaqt"
      },
      "source": [
        "## Import libraries and dataset"
      ]
    },
    {
      "cell_type": "code",
      "metadata": {
        "id": "8QJIx5FCA4j3"
      },
      "source": [
        "import os\n",
        "import random\n",
        "import datetime\n",
        "import numpy as np\n",
        "import seaborn as sns\n",
        "import tensorflow as tf\n",
        "import matplotlib.pyplot as plt\n",
        "\n",
        "from google.colab import files\n",
        "from google_drive_downloader import GoogleDriveDownloader\n",
        "from tensorflow.keras.preprocessing.image import ImageDataGenerator"
      ],
      "execution_count": null,
      "outputs": []
    },
    {
      "cell_type": "code",
      "metadata": {
        "id": "GeAaimFJEmcK"
      },
      "source": [
        "# download image files\n",
        "# from https://www.kaggle.com/thedagger/pokemon-generation-one\n",
        "\n",
        "file_id = \"1lKfmEjyovEvvZ2zBUkdJwl2fnF4C5OyM\"\n",
        "folder = \"dataset\"\n",
        "GoogleDriveDownloader.download_file_from_google_drive(\n",
        "    file_id = file_id,\n",
        "    dest_path = \"/content/pokemon.zip\",\n",
        "    unzip = True\n",
        ")"
      ],
      "execution_count": null,
      "outputs": []
    },
    {
      "cell_type": "code",
      "metadata": {
        "id": "DjTrroHCFDpY"
      },
      "source": [
        "# dataset class distribution\n",
        "pokemon_count = {}\n",
        "index_weight = {}\n",
        "pokemon_list = os.listdir(\"/content/{}\".format(folder))\n",
        "pokemon_list.sort()\n",
        "\n",
        "for index, pokemon in enumerate(pokemon_list):\n",
        "    pokemon_count[pokemon] = len(os.listdir(\"/content/{}/{}\".format(folder, pokemon)))\n",
        "    index_weight[index] = 1 / len(os.listdir(\"/content/{}/{}\".format(folder, pokemon)))\n",
        "\n",
        "index_weight = {k: v * total for total in (sum(index_weight.values()),) for k, v in index_weight.items()}\n",
        "\n",
        "fig = plt.figure(figsize = (25, 5))\n",
        "sns.lineplot(x = list(pokemon_count.keys()), y = list(pokemon_count.values())).set_title('Number of images for each pokemon')\n",
        "plt.xticks(rotation = 90)\n",
        "plt.margins(x=0)\n",
        "plt.show()"
      ],
      "execution_count": null,
      "outputs": []
    },
    {
      "cell_type": "code",
      "metadata": {
        "id": "KjodxbwFGQpc"
      },
      "source": [
        "seed = 2\n",
        "height, width = 224, 224\n",
        "\n",
        "datagen = ImageDataGenerator(\n",
        "    horizontal_flip = True,\n",
        "    vertical_flip = True,\n",
        "    fill_mode = 'nearest',\n",
        "    validation_split = 0.1)\n",
        "\n",
        "train_data = datagen.flow_from_directory(\n",
        "    directory = \"/content/{}\".format(folder),\n",
        "    target_size = (height, width),\n",
        "    shuffle = True,\n",
        "    seed = seed,\n",
        "    batch_size = 15,\n",
        "    subset = \"training\"\n",
        ")\n",
        "\n",
        "val_data = datagen.flow_from_directory(\n",
        "    directory = \"/content/{}\".format(folder),\n",
        "    target_size = (height, width),\n",
        "    shuffle = True,\n",
        "    seed = seed,\n",
        "    batch_size = 15,\n",
        "    subset = \"validation\"\n",
        ")\n",
        "\n",
        "indices_class = {value: key for key, value in val_data.class_indices.items()}\n",
        "n_class = len(train_data.class_indices.keys())\n",
        "print(indices_class)"
      ],
      "execution_count": null,
      "outputs": []
    },
    {
      "cell_type": "markdown",
      "metadata": {
        "id": "r9eDVpCVGiw9"
      },
      "source": [
        "# Model "
      ]
    },
    {
      "cell_type": "markdown",
      "metadata": {
        "id": "LP85tDDwG42S"
      },
      "source": [
        "## model define"
      ]
    },
    {
      "cell_type": "code",
      "metadata": {
        "id": "9zreyPZLGqup"
      },
      "source": [
        "def base_model(shape):\n",
        "    input = tf.keras.layers.Input(shape = shape, name = \"input_layer\")\n",
        "    \n",
        "    mobile_model = tf.keras.applications.MobileNetV3Small(include_top = False,\n",
        "                                                          input_shape = shape,\n",
        "                                                          pooling = \"max\",\n",
        "                                                          weights = \"imagenet\",\n",
        "                                                          dropout_rate = 0.1,\n",
        "                                                          )\n",
        "    \n",
        "    y = mobile_model(input)\n",
        "\n",
        "    model = tf.keras.models.Model(\n",
        "        inputs = input,\n",
        "        outputs = y,\n",
        "        name = \"mobile_max\")  \n",
        "    return model                 \n",
        "\n",
        "def my_model(n_class):\n",
        "    model = tf.keras.models.Sequential([\n",
        "        tf.keras.layers.Flatten(),\n",
        "        tf.keras.layers.Dense(units = 1024, activation = \"relu\", kernel_initializer = 'he_uniform'),\n",
        "        tf.keras.layers.Dropout(0.3),\n",
        "        tf.keras.layers.BatchNormalization(),\n",
        "        tf.keras.layers.Dense(units = 512, activation = \"relu\", kernel_initializer = 'he_uniform'),\n",
        "        tf.keras.layers.Dropout(0.2),\n",
        "        tf.keras.layers.BatchNormalization(),\n",
        "        tf.keras.layers.Dense(units = 256, activation = \"relu\", kernel_initializer = 'he_uniform'),\n",
        "        tf.keras.layers.Dropout(0.1),\n",
        "        tf.keras.layers.BatchNormalization(),\n",
        "        tf.keras.layers.Dense(units = n_class, activation = \"softmax\")\n",
        "    ], name = \"my_dense\")\n",
        "    return model\n",
        "\n",
        "n_class = len(train_data.class_indices.keys())\n",
        "\n",
        "conv_model = base_model(shape = (height,width,3))\n",
        "fc_model = my_model(n_class = n_class)\n",
        "\n",
        "conv_model.trainable = False\n",
        "model = tf.keras.models.Sequential([conv_model, fc_model], name = \"my_model\")\n",
        "\n",
        "model.summary()"
      ],
      "execution_count": null,
      "outputs": []
    },
    {
      "cell_type": "code",
      "metadata": {
        "id": "YqyEIu5-GuTQ"
      },
      "source": [
        "model.compile(\n",
        "    optimizer = tf.keras.optimizers.Adam(\n",
        "        tf.keras.optimizers.schedules.ExponentialDecay(\n",
        "            initial_learning_rate = 0.004, decay_steps = 4000, decay_rate = 0.9\n",
        "    )),\n",
        "    loss = tf.keras.losses.CategoricalCrossentropy(),\n",
        "    metrics = [\"accuracy\"]\n",
        ")"
      ],
      "execution_count": null,
      "outputs": []
    },
    {
      "cell_type": "markdown",
      "metadata": {
        "id": "YRYZz9l4G8VE"
      },
      "source": [
        "## model train"
      ]
    },
    {
      "cell_type": "code",
      "metadata": {
        "id": "TkxZSa6xGwFp"
      },
      "source": [
        "callback = tf.keras.callbacks.EarlyStopping(monitor = \"val_loss\", patience = 5, restore_best_weights = True)\n",
        "\n",
        "history = model.fit(train_data,\n",
        "                    validation_data = val_data,\n",
        "                    epochs = 100,\n",
        "                    callbacks = [callback],\n",
        "                    class_weight = index_weight\n",
        "                    )   "
      ],
      "execution_count": null,
      "outputs": []
    },
    {
      "cell_type": "markdown",
      "metadata": {
        "id": "_WxMLW0-HAtJ"
      },
      "source": [
        "## model fine-tune"
      ]
    },
    {
      "cell_type": "code",
      "metadata": {
        "id": "i50lb8BpG1nO"
      },
      "source": [
        "for layer in model.layers:\n",
        "    layer.trainable = True\n",
        "\n",
        "model.summary()"
      ],
      "execution_count": null,
      "outputs": []
    },
    {
      "cell_type": "code",
      "metadata": {
        "id": "3XFuhgPzHDr4"
      },
      "source": [
        "model.compile(\n",
        "    optimizer = tf.keras.optimizers.Adam(\n",
        "        tf.keras.optimizers.schedules.ExponentialDecay(\n",
        "            initial_learning_rate = 0.0004, decay_steps = 1000, decay_rate = 0.9\n",
        "    )),\n",
        "    loss = tf.keras.losses.CategoricalCrossentropy(),\n",
        "    metrics = [\"accuracy\"]\n",
        ")\n",
        "\n",
        "callback = tf.keras.callbacks.EarlyStopping(monitor = \"val_loss\", patience = 5, restore_best_weights = True)\n",
        "\n",
        "history = model.fit(train_data,\n",
        "                    validation_data = val_data,\n",
        "                    epochs = 100,\n",
        "                    callbacks = [callback],\n",
        "                    class_weight = index_weight\n",
        "                    )   "
      ],
      "execution_count": null,
      "outputs": []
    },
    {
      "cell_type": "code",
      "metadata": {
        "id": "r2F_GlyPHISZ"
      },
      "source": [
        "name = \"my_save.h5\"\n",
        "model.save(\"./\" + name)"
      ],
      "execution_count": null,
      "outputs": []
    },
    {
      "cell_type": "markdown",
      "metadata": {
        "id": "Q7ZxzRpQHMbO"
      },
      "source": [
        "## Model evaluate"
      ]
    },
    {
      "cell_type": "code",
      "metadata": {
        "id": "-SPBKK_tHOwW"
      },
      "source": [
        "images, labels = val_data.next()\n",
        "predicts = model.predict(images)\n",
        "\n",
        "n_rows = (len(images) // 4) + 1\n",
        "plt.figure(figsize = (12, n_rows * 4))\n",
        "# plt.subplots_adjust(hspace = 0.1)\n",
        "\n",
        "for index, image in enumerate(images):\n",
        "    plt.subplot(n_rows, 4, index + 1)\n",
        "    image = np.asarray(image, dtype = np.uint8)\n",
        "    plt.imshow(image)\n",
        "    plt.title(\"real: {}\\n predict:{}\\n score:{:.3f}\".format(\n",
        "        indices_class[np.argmax(labels[index])],\n",
        "        indices_class[np.argmax(predicts[index])],\n",
        "        np.max(predicts[index])\n",
        "    ))"
      ],
      "execution_count": null,
      "outputs": []
    }
  ]
}